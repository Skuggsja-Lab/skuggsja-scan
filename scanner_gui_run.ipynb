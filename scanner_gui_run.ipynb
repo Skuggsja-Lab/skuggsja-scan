{
 "cells": [
  {
   "cell_type": "markdown",
   "metadata": {},
   "source": [
    "# Monitoring while scanning"
   ]
  },
  {
   "cell_type": "markdown",
   "metadata": {},
   "source": [
    "## Imports"
   ]
  },
  {
   "cell_type": "code",
   "execution_count": 9,
   "metadata": {},
   "outputs": [],
   "source": [
    "from robodk.robolink import *  # API to communicate with RoboDK\n",
    "from robodk.robomath import *  # basic matrix operations\n",
    "import numpy as np\n",
    "from datetime import datetime\n",
    "import os"
   ]
  },
  {
   "cell_type": "markdown",
   "metadata": {},
   "source": [
    "## Raster"
   ]
  },
  {
   "cell_type": "code",
   "execution_count": 10,
   "metadata": {},
   "outputs": [
    {
     "ename": "SystemExit",
     "evalue": "0",
     "output_type": "error",
     "traceback": [
      "An exception has occurred, use %tb to see the full traceback.\n",
      "\u001b[1;31mSystemExit\u001b[0m\u001b[1;31m:\u001b[0m 0\n"
     ]
    }
   ],
   "source": [
    "runfile(\"scan_control_gui.py\")"
   ]
  },
  {
   "cell_type": "markdown",
   "metadata": {},
   "source": [
    "Export command from .ui folder"
   ]
  },
  {
   "cell_type": "code",
   "execution_count": null,
   "metadata": {},
   "outputs": [],
   "source": [
    "# pyuic6 -o scan_control_gui.py scan_control_gui.ui"
   ]
  },
  {
   "cell_type": "markdown",
   "metadata": {},
   "source": [
    "End of file for .ui to .py files from QT Designer"
   ]
  },
  {
   "cell_type": "code",
   "execution_count": null,
   "metadata": {},
   "outputs": [],
   "source": [
    "# class MainWindow(QtWidgets.QMainWindow, Ui_MainWindow):\n",
    "#     def __init__(self, *args, obj=None, **kwargs):\n",
    "#         super(MainWindow, self).__init__(*args, **kwargs)\n",
    "#         self.setupUi(self)\n",
    "\n",
    "# if __name__ == '__main__':\n",
    "#     if not QtWidgets.QApplication.instance():\n",
    "#         app = QtWidgets.QApplication(sys.argv)\n",
    "#     else:\n",
    "#         app = QtWidgets.QApplication.instance()\n",
    "#     window = MainWindow()\n",
    "#     window.show()\n",
    "#     sys.exit(app.exec())"
   ]
  }
 ],
 "metadata": {
  "kernelspec": {
   "display_name": "Python 3",
   "language": "python",
   "name": "python3"
  },
  "language_info": {
   "codemirror_mode": {
    "name": "ipython",
    "version": 3
   },
   "file_extension": ".py",
   "mimetype": "text/x-python",
   "name": "python",
   "nbconvert_exporter": "python",
   "pygments_lexer": "ipython3",
   "version": "3.11.3"
  }
 },
 "nbformat": 4,
 "nbformat_minor": 2
}
